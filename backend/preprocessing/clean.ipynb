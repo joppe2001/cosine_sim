{
 "cells": [
  {
   "cell_type": "code",
   "execution_count": 1,
   "metadata": {},
   "outputs": [],
   "source": [
    "import pandas as pd\n",
    "import numpy as np\n",
    "from sklearn.preprocessing import MultiLabelBinarizer # type: ignore"
   ]
  },
  {
   "cell_type": "markdown",
   "metadata": {},
   "source": [
    "## load data"
   ]
  },
  {
   "cell_type": "code",
   "execution_count": 6,
   "metadata": {},
   "outputs": [],
   "source": [
    "def load_data(filename, na_values=None):\n",
    "    if na_values is None:\n",
    "        na_values = [\"\", \" \"]\n",
    "    \n",
    "    print(f\"Loading data from {filename}...\")\n",
    "    return pd.read_csv(filename, na_values=na_values)"
   ]
  },
  {
   "cell_type": "markdown",
   "metadata": {},
   "source": [
    "## preprocess data"
   ]
  },
  {
   "cell_type": "code",
   "execution_count": 5,
   "metadata": {},
   "outputs": [],
   "source": [
    "def preprocess_data(df, feature_columns, column_weights=None):\n",
    "    if column_weights is None:\n",
    "        column_weights = {}\n",
    "    \n",
    "    mlbs = {}\n",
    "    feature_matrices = []\n",
    "\n",
    "    # Handle duration column if it exists\n",
    "    if \"duration\" in df.columns:\n",
    "        df[\"duration\"] = (\n",
    "            df[\"duration\"].str.extract(\"(\\d+)\").astype(float)\n",
    "        )  # Extract the number from the duration string\n",
    "        df[\"duration\"].fillna(df[\"duration\"].mean(), inplace=True)\n",
    "        print(\"Duration column processed.\")\n",
    "\n",
    "    for col in feature_columns:\n",
    "        df[col] = df[col].str.split(\",\")\n",
    "        df[col].fillna(\"\", inplace=True)\n",
    "        mlb = MultiLabelBinarizer()\n",
    "        encoded_data = mlb.fit_transform(df[col])\n",
    "        \n",
    "        print(f\"Encoding {col}...\")\n",
    "        \n",
    "        # Apply column-specific weights if provided\n",
    "        weight = column_weights.get(col, 1.0)\n",
    "        encoded_data = encoded_data * weight\n",
    "        \n",
    "        feature_matrices.append(encoded_data)\n",
    "        mlbs[col] = mlb\n",
    "        print(f\"{col} encoded.\")\n",
    "\n",
    "    features_matrix = np.hstack(feature_matrices)\n",
    "    print(\"Feature matrix created.\")\n",
    "\n",
    "    return df, features_matrix, mlbs\n"
   ]
  }
 ],
 "metadata": {
  "kernelspec": {
   "display_name": "anime_recommender",
   "language": "python",
   "name": "python3"
  },
  "language_info": {
   "codemirror_mode": {
    "name": "ipython",
    "version": 3
   },
   "file_extension": ".py",
   "mimetype": "text/x-python",
   "name": "python",
   "nbconvert_exporter": "python",
   "pygments_lexer": "ipython3",
   "version": "3.1.-1"
  }
 },
 "nbformat": 4,
 "nbformat_minor": 2
}
